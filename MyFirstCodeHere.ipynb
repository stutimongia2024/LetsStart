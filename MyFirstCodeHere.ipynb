{
  "nbformat": 4,
  "nbformat_minor": 0,
  "metadata": {
    "colab": {
      "name": "MyFirstCodeHere.ipynb",
      "provenance": [],
      "authorship_tag": "ABX9TyP89Sukqk5HYuVYATMQJ43z",
      "include_colab_link": true
    },
    "kernelspec": {
      "name": "python3",
      "display_name": "Python 3"
    },
    "language_info": {
      "name": "python"
    }
  },
  "cells": [
    {
      "cell_type": "markdown",
      "metadata": {
        "id": "view-in-github",
        "colab_type": "text"
      },
      "source": [
        "<a href=\"https://colab.research.google.com/github/stutimongia2024/LetsStart/blob/main/MyFirstCodeHere.ipynb\" target=\"_parent\"><img src=\"https://colab.research.google.com/assets/colab-badge.svg\" alt=\"Open In Colab\"/></a>"
      ]
    },
    {
      "cell_type": "code",
      "metadata": {
        "colab": {
          "base_uri": "https://localhost:8080/"
        },
        "id": "F0_7C7F2Ns_J",
        "outputId": "df94db75-0e6c-4d43-d63b-3342953ff01d"
      },
      "source": [
        "print('Heloo world')"
      ],
      "execution_count": 1,
      "outputs": [
        {
          "output_type": "stream",
          "text": [
            "Heloo world\n"
          ],
          "name": "stdout"
        }
      ]
    },
    {
      "cell_type": "code",
      "metadata": {
        "colab": {
          "base_uri": "https://localhost:8080/"
        },
        "id": "Nsxk16R7Tj7i",
        "outputId": "b6fd75a0-b85e-41e0-87da-c4673ce4b292"
      },
      "source": [
        "from google.colab import drive\n",
        "drive.mount('/content/drive')\n"
      ],
      "execution_count": 2,
      "outputs": [
        {
          "output_type": "stream",
          "text": [
            "Mounted at /content/drive\n"
          ],
          "name": "stdout"
        }
      ]
    },
    {
      "cell_type": "code",
      "metadata": {
        "colab": {
          "base_uri": "https://localhost:8080/"
        },
        "id": "NMXdPc14YACP",
        "outputId": "1736064f-e0dc-41ad-c347-a57da41354f6"
      },
      "source": [
        "cd '/content/drive/MyDrive/LiveCodeSession'"
      ],
      "execution_count": 3,
      "outputs": [
        {
          "output_type": "stream",
          "text": [
            "/content/drive/MyDrive/LiveCodeSession\n"
          ],
          "name": "stdout"
        }
      ]
    },
    {
      "cell_type": "markdown",
      "metadata": {
        "id": "HgooEGkra3-e"
      },
      "source": [
        "# Problem Statement \n",
        "Train model to learn the table of 10 \n",
        "equation: `y=10*x`\n"
      ]
    },
    {
      "cell_type": "markdown",
      "metadata": {
        "id": "aSKhcb9tcMEF"
      },
      "source": [
        "#Data Selection\n",
        "Equation: ` y=10x`\n",
        "\n",
        "Target -->\n",
        "```\n",
        "x =  [0, 1, 2, 3, 4, 5...]\n",
        "\n",
        "y= [0, 10, 20, 30, 40, 50...]\n",
        "\n",
        "```\n"
      ]
    },
    {
      "cell_type": "code",
      "metadata": {
        "colab": {
          "base_uri": "https://localhost:8080/"
        },
        "id": "IxUIq4KEdopv",
        "outputId": "9e4ce62a-c39d-4281-a9d8-0d4ff12d71e3"
      },
      "source": [
        "x = [ i for i in range (21)] #list comprehension\n",
        "print(x)"
      ],
      "execution_count": 14,
      "outputs": [
        {
          "output_type": "stream",
          "text": [
            "[0, 1, 2, 3, 4, 5, 6, 7, 8, 9, 10, 11, 12, 13, 14, 15, 16, 17, 18, 19, 20]\n"
          ],
          "name": "stdout"
        }
      ]
    },
    {
      "cell_type": "code",
      "metadata": {
        "colab": {
          "base_uri": "https://localhost:8080/"
        },
        "id": "BtyjJKa8eO7p",
        "outputId": "7648805e-01e2-4e4d-edaa-2c3d315c5c3a"
      },
      "source": [
        "y= [ i for i in range (10*20+1)  if (i%10==0) ]\n",
        "print(y)"
      ],
      "execution_count": 15,
      "outputs": [
        {
          "output_type": "stream",
          "text": [
            "[0, 10, 20, 30, 40, 50, 60, 70, 80, 90, 100, 110, 120, 130, 140, 150, 160, 170, 180, 190, 200]\n"
          ],
          "name": "stdout"
        }
      ]
    },
    {
      "cell_type": "markdown",
      "metadata": {
        "id": "RcRD5QC1ihI5"
      },
      "source": [
        "#Approach 1\n",
        "The python approach\n",
        "\n"
      ]
    },
    {
      "cell_type": "code",
      "metadata": {
        "colab": {
          "base_uri": "https://localhost:8080/"
        },
        "id": "NG7_zX0girVb",
        "outputId": "6b4b2a9d-a2d3-4a86-8e9b-ffdabf7ede06"
      },
      "source": [
        "def TheTableOfTen(x):\n",
        "  y=10*x\n",
        "  return y\n",
        "\n",
        "for value in x:\n",
        "  print(TheTableOfTen(value))"
      ],
      "execution_count": 16,
      "outputs": [
        {
          "output_type": "stream",
          "text": [
            "0\n",
            "10\n",
            "20\n",
            "30\n",
            "40\n",
            "50\n",
            "60\n",
            "70\n",
            "80\n",
            "90\n",
            "100\n",
            "110\n",
            "120\n",
            "130\n",
            "140\n",
            "150\n",
            "160\n",
            "170\n",
            "180\n",
            "190\n",
            "200\n"
          ],
          "name": "stdout"
        }
      ]
    },
    {
      "cell_type": "markdown",
      "metadata": {
        "id": "B8kp3oe7jazJ"
      },
      "source": [
        "#Approach 2 \n",
        "I am super enthusiastic for learning ML so I will implement the model using ML\n",
        "Let's do this :)\n",
        "\n",
        "You will be needing `xTrain` , `yTrain`, `xTest` and `yTest` from the list `x` and `y` "
      ]
    },
    {
      "cell_type": "code",
      "metadata": {
        "colab": {
          "base_uri": "https://localhost:8080/"
        },
        "id": "EXJJZaxJof8x",
        "outputId": "bd10edae-953d-4510-9395-d71206229de5"
      },
      "source": [
        "print(f'This is x: {x} ' )\n",
        "\n",
        "print(f'This is y: {y}' )"
      ],
      "execution_count": 31,
      "outputs": [
        {
          "output_type": "stream",
          "text": [
            "This is x: [0, 1, 2, 3, 4, 5, 6, 7, 8, 9, 10, 11, 12, 13, 14, 15, 16, 17, 18, 19, 20] \n",
            "This is y: [0, 10, 20, 30, 40, 50, 60, 70, 80, 90, 100, 110, 120, 130, 140, 150, 160, 170, 180, 190, 200]\n"
          ],
          "name": "stdout"
        }
      ]
    },
    {
      "cell_type": "code",
      "metadata": {
        "colab": {
          "base_uri": "https://localhost:8080/"
        },
        "id": "Ne2Gz7Qtrxcd",
        "outputId": "c99ac67e-9872-42f9-a14f-358cc056c22b"
      },
      "source": [
        "xTrain=x [:-5] #training data\n",
        "yTrain=y[:-5] #training labels \n",
        "\n",
        "xTest=x[-5:] #testing data\n",
        "yTest=y[-5:] #testing labels \n",
        "\n",
        "print (f'''\n",
        "\n",
        "xTrain : {xTrain}\n",
        "yTrain : {yTrain}\n",
        "\n",
        "xTest : {xTest}\n",
        "yTest : {yTest}\n",
        " ''')\n"
      ],
      "execution_count": 40,
      "outputs": [
        {
          "output_type": "stream",
          "text": [
            "\n",
            "\n",
            "xTrain : [0, 1, 2, 3, 4, 5, 6, 7, 8, 9, 10, 11, 12, 13, 14, 15]\n",
            "yTrain : [0, 10, 20, 30, 40, 50, 60, 70, 80, 90, 100, 110, 120, 130, 140, 150]\n",
            "\n",
            "xTest : [16, 17, 18, 19, 20]\n",
            "yTest : [160, 170, 180, 190, 200]\n",
            " \n"
          ],
          "name": "stdout"
        }
      ]
    },
    {
      "cell_type": "code",
      "metadata": {
        "id": "KLnZNtmKwbNl"
      },
      "source": [
        "import tensorflow as tf #framework\n",
        "from tensorflow import keras #API / library "
      ],
      "execution_count": 41,
      "outputs": []
    },
    {
      "cell_type": "code",
      "metadata": {
        "id": "_0yYEUYnwdaT"
      },
      "source": [
        ""
      ],
      "execution_count": null,
      "outputs": []
    }
  ]
}